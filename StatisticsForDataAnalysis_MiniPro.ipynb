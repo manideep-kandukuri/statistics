{
 "cells": [
  {
   "cell_type": "markdown",
   "metadata": {},
   "source": [
    "# PART - A"
   ]
  },
  {
   "cell_type": "markdown",
   "metadata": {},
   "source": [
    "# You were recently hired as a business analyst in a top sports company. The senior management team has asked you to come up with metrics with which they can gauge which team will win the upcoming La Liga cup (Football tournament). The given data set contains information on all the teams that have so far participated in all the past tournaments. It has data about how many goals each team scored, conceded; how many times they came within the first 6 positions, how many seasons they have qualified, their best position in the past, etc. You are required to do the following:\n",
    "Before doing any analysis it would be a good idea to check for any hypens or other symbols the data set and make appropriate replacements to make sure you can perform arithmetic operations on the data. Prepare a short report to answer the following questions:\n",
    "\n",
    "Which are the teams which started playing between 1930-1980?\n",
    "Which are the top 5 teams in terms of points?\n",
    "What is the distribution of the winning percentage for all teams?\n",
    "Which teams are in the top 5 in terms of winning percentage? (Winning percentage= (GamesWon / GamesPlayed)*100)\n",
    "Is there a significant difference in the winning percentage for teams which have attained a best position between 1-3 and those teams which have had a best position between 4-7."
   ]
  },
  {
   "cell_type": "code",
   "execution_count": 1,
   "metadata": {},
   "outputs": [],
   "source": [
    "import numpy as np\n",
    "import pandas as pd\n",
    "import matplotlib.pyplot as plt\n",
    "import seaborn as sns\n",
    "\n",
    "from scipy.stats import shapiro, mannwhitneyu"
   ]
  },
  {
   "cell_type": "code",
   "execution_count": 3,
   "metadata": {},
   "outputs": [
    {
     "data": {
      "text/html": [
       "<div>\n",
       "<style scoped>\n",
       "    .dataframe tbody tr th:only-of-type {\n",
       "        vertical-align: middle;\n",
       "    }\n",
       "\n",
       "    .dataframe tbody tr th {\n",
       "        vertical-align: top;\n",
       "    }\n",
       "\n",
       "    .dataframe thead th {\n",
       "        text-align: right;\n",
       "    }\n",
       "</style>\n",
       "<table border=\"1\" class=\"dataframe\">\n",
       "  <thead>\n",
       "    <tr style=\"text-align: right;\">\n",
       "      <th></th>\n",
       "      <th>Unnamed: 0</th>\n",
       "      <th>Unnamed: 1</th>\n",
       "      <th>Unnamed: 2</th>\n",
       "      <th>Unnamed: 3</th>\n",
       "      <th>Unnamed: 4</th>\n",
       "      <th>Unnamed: 5</th>\n",
       "      <th>Unnamed: 6</th>\n",
       "      <th>Unnamed: 7</th>\n",
       "      <th>Unnamed: 8</th>\n",
       "      <th>Unnamed: 9</th>\n",
       "      <th>Unnamed: 10</th>\n",
       "      <th>Unnamed: 11</th>\n",
       "      <th>Unnamed: 12</th>\n",
       "      <th>Unnamed: 13</th>\n",
       "      <th>Unnamed: 14</th>\n",
       "      <th>Unnamed: 15</th>\n",
       "      <th>Unnamed: 16</th>\n",
       "      <th>Unnamed: 17</th>\n",
       "      <th>Unnamed: 18</th>\n",
       "      <th>Unnamed: 19</th>\n",
       "    </tr>\n",
       "  </thead>\n",
       "  <tbody>\n",
       "    <tr>\n",
       "      <th>0</th>\n",
       "      <td>Pos</td>\n",
       "      <td>Team</td>\n",
       "      <td>Seasons</td>\n",
       "      <td>Points</td>\n",
       "      <td>GamesPlayed</td>\n",
       "      <td>GamesWon</td>\n",
       "      <td>GamesDrawn</td>\n",
       "      <td>GamesLost</td>\n",
       "      <td>GoalsFor</td>\n",
       "      <td>GoalsAgainst</td>\n",
       "      <td>Champion</td>\n",
       "      <td>Runner-up</td>\n",
       "      <td>Third</td>\n",
       "      <td>Fourth</td>\n",
       "      <td>Fifth</td>\n",
       "      <td>Sixth</td>\n",
       "      <td>T</td>\n",
       "      <td>Debut</td>\n",
       "      <td>Since/LastApp</td>\n",
       "      <td>BestPosition</td>\n",
       "    </tr>\n",
       "    <tr>\n",
       "      <th>1</th>\n",
       "      <td>1</td>\n",
       "      <td>Real Madrid</td>\n",
       "      <td>86</td>\n",
       "      <td>4385</td>\n",
       "      <td>2762</td>\n",
       "      <td>1647</td>\n",
       "      <td>552</td>\n",
       "      <td>563</td>\n",
       "      <td>5947</td>\n",
       "      <td>3140</td>\n",
       "      <td>33</td>\n",
       "      <td>23</td>\n",
       "      <td>8</td>\n",
       "      <td>8</td>\n",
       "      <td>3</td>\n",
       "      <td>4</td>\n",
       "      <td>79</td>\n",
       "      <td>1929</td>\n",
       "      <td>1929</td>\n",
       "      <td>1</td>\n",
       "    </tr>\n",
       "    <tr>\n",
       "      <th>2</th>\n",
       "      <td>2</td>\n",
       "      <td>Barcelona</td>\n",
       "      <td>86</td>\n",
       "      <td>4262</td>\n",
       "      <td>2762</td>\n",
       "      <td>1581</td>\n",
       "      <td>573</td>\n",
       "      <td>608</td>\n",
       "      <td>5900</td>\n",
       "      <td>3114</td>\n",
       "      <td>25</td>\n",
       "      <td>25</td>\n",
       "      <td>12</td>\n",
       "      <td>12</td>\n",
       "      <td>4</td>\n",
       "      <td>6</td>\n",
       "      <td>83</td>\n",
       "      <td>1929</td>\n",
       "      <td>1929</td>\n",
       "      <td>1</td>\n",
       "    </tr>\n",
       "    <tr>\n",
       "      <th>3</th>\n",
       "      <td>3</td>\n",
       "      <td>Atletico Madrid</td>\n",
       "      <td>80</td>\n",
       "      <td>3442</td>\n",
       "      <td>2614</td>\n",
       "      <td>1241</td>\n",
       "      <td>598</td>\n",
       "      <td>775</td>\n",
       "      <td>4534</td>\n",
       "      <td>3309</td>\n",
       "      <td>10</td>\n",
       "      <td>8</td>\n",
       "      <td>16</td>\n",
       "      <td>9</td>\n",
       "      <td>7</td>\n",
       "      <td>6</td>\n",
       "      <td>56</td>\n",
       "      <td>1929</td>\n",
       "      <td>2002-03</td>\n",
       "      <td>1</td>\n",
       "    </tr>\n",
       "    <tr>\n",
       "      <th>4</th>\n",
       "      <td>4</td>\n",
       "      <td>Valencia</td>\n",
       "      <td>82</td>\n",
       "      <td>3386</td>\n",
       "      <td>2664</td>\n",
       "      <td>1187</td>\n",
       "      <td>616</td>\n",
       "      <td>861</td>\n",
       "      <td>4398</td>\n",
       "      <td>3469</td>\n",
       "      <td>6</td>\n",
       "      <td>6</td>\n",
       "      <td>10</td>\n",
       "      <td>11</td>\n",
       "      <td>10</td>\n",
       "      <td>7</td>\n",
       "      <td>50</td>\n",
       "      <td>1931-32</td>\n",
       "      <td>1987-88</td>\n",
       "      <td>1</td>\n",
       "    </tr>\n",
       "  </tbody>\n",
       "</table>\n",
       "</div>"
      ],
      "text/plain": [
       "  Unnamed: 0       Unnamed: 1 Unnamed: 2 Unnamed: 3   Unnamed: 4 Unnamed: 5  \\\n",
       "0        Pos             Team    Seasons     Points  GamesPlayed   GamesWon   \n",
       "1          1      Real Madrid         86       4385         2762       1647   \n",
       "2          2        Barcelona         86       4262         2762       1581   \n",
       "3          3  Atletico Madrid         80       3442         2614       1241   \n",
       "4          4         Valencia         82       3386         2664       1187   \n",
       "\n",
       "   Unnamed: 6 Unnamed: 7 Unnamed: 8    Unnamed: 9 Unnamed: 10 Unnamed: 11  \\\n",
       "0  GamesDrawn  GamesLost   GoalsFor  GoalsAgainst    Champion   Runner-up   \n",
       "1         552        563       5947          3140          33          23   \n",
       "2         573        608       5900          3114          25          25   \n",
       "3         598        775       4534          3309          10           8   \n",
       "4         616        861       4398          3469           6           6   \n",
       "\n",
       "  Unnamed: 12 Unnamed: 13 Unnamed: 14 Unnamed: 15 Unnamed: 16 Unnamed: 17  \\\n",
       "0       Third      Fourth       Fifth       Sixth           T       Debut   \n",
       "1           8           8           3           4          79        1929   \n",
       "2          12          12           4           6          83        1929   \n",
       "3          16           9           7           6          56        1929   \n",
       "4          10          11          10           7          50     1931-32   \n",
       "\n",
       "     Unnamed: 18   Unnamed: 19  \n",
       "0  Since/LastApp  BestPosition  \n",
       "1           1929             1  \n",
       "2           1929             1  \n",
       "3        2002-03             1  \n",
       "4        1987-88             1  "
      ]
     },
     "execution_count": 3,
     "metadata": {},
     "output_type": "execute_result"
    }
   ],
   "source": [
    "laliga = pd.read_csv('LaLiga.csv')\n",
    "laliga.head()"
   ]
  },
  {
   "cell_type": "code",
   "execution_count": 4,
   "metadata": {},
   "outputs": [
    {
     "data": {
      "text/plain": [
       "Index(['Pos', 'Team', 'Seasons', 'Points', 'GamesPlayed', 'GamesWon',\n",
       "       'GamesDrawn', 'GamesLost', 'GoalsFor', 'GoalsAgainst', 'Champion',\n",
       "       'Runner-up', 'Third', 'Fourth', 'Fifth', 'Sixth', 'T', 'Debut',\n",
       "       'Since/LastApp', 'BestPosition'],\n",
       "      dtype='object', name=0)"
      ]
     },
     "execution_count": 4,
     "metadata": {},
     "output_type": "execute_result"
    }
   ],
   "source": [
    "laliga.columns = laliga.loc[0,:]\n",
    "laliga.columns"
   ]
  },
  {
   "cell_type": "code",
   "execution_count": 5,
   "metadata": {},
   "outputs": [],
   "source": [
    "laliga.columns = ['Pos', 'Team', 'Seasons', 'Points', 'GamesPlayed', 'GamesWon',\n",
    "       'GamesDrawn', 'GamesLost', 'GoalsFor', 'GoalsAgainst', 'Champion',\n",
    "       'Runnerup', 'Third', 'Fourth', 'Fifth', 'Sixth', 'T', 'Debut',\n",
    "       'SinceLastApp', 'BestPosition']"
   ]
  },
  {
   "cell_type": "code",
   "execution_count": 6,
   "metadata": {},
   "outputs": [
    {
     "data": {
      "text/html": [
       "<div>\n",
       "<style scoped>\n",
       "    .dataframe tbody tr th:only-of-type {\n",
       "        vertical-align: middle;\n",
       "    }\n",
       "\n",
       "    .dataframe tbody tr th {\n",
       "        vertical-align: top;\n",
       "    }\n",
       "\n",
       "    .dataframe thead th {\n",
       "        text-align: right;\n",
       "    }\n",
       "</style>\n",
       "<table border=\"1\" class=\"dataframe\">\n",
       "  <thead>\n",
       "    <tr style=\"text-align: right;\">\n",
       "      <th></th>\n",
       "      <th>Pos</th>\n",
       "      <th>Team</th>\n",
       "      <th>Seasons</th>\n",
       "      <th>Points</th>\n",
       "      <th>GamesPlayed</th>\n",
       "      <th>GamesWon</th>\n",
       "      <th>GamesDrawn</th>\n",
       "      <th>GamesLost</th>\n",
       "      <th>GoalsFor</th>\n",
       "      <th>GoalsAgainst</th>\n",
       "      <th>Champion</th>\n",
       "      <th>Runnerup</th>\n",
       "      <th>Third</th>\n",
       "      <th>Fourth</th>\n",
       "      <th>Fifth</th>\n",
       "      <th>Sixth</th>\n",
       "      <th>T</th>\n",
       "      <th>Debut</th>\n",
       "      <th>SinceLastApp</th>\n",
       "      <th>BestPosition</th>\n",
       "    </tr>\n",
       "  </thead>\n",
       "  <tbody>\n",
       "    <tr>\n",
       "      <th>0</th>\n",
       "      <td>Pos</td>\n",
       "      <td>Team</td>\n",
       "      <td>Seasons</td>\n",
       "      <td>Points</td>\n",
       "      <td>GamesPlayed</td>\n",
       "      <td>GamesWon</td>\n",
       "      <td>GamesDrawn</td>\n",
       "      <td>GamesLost</td>\n",
       "      <td>GoalsFor</td>\n",
       "      <td>GoalsAgainst</td>\n",
       "      <td>Champion</td>\n",
       "      <td>Runner-up</td>\n",
       "      <td>Third</td>\n",
       "      <td>Fourth</td>\n",
       "      <td>Fifth</td>\n",
       "      <td>Sixth</td>\n",
       "      <td>T</td>\n",
       "      <td>Debut</td>\n",
       "      <td>Since/LastApp</td>\n",
       "      <td>BestPosition</td>\n",
       "    </tr>\n",
       "    <tr>\n",
       "      <th>1</th>\n",
       "      <td>1</td>\n",
       "      <td>Real Madrid</td>\n",
       "      <td>86</td>\n",
       "      <td>4385</td>\n",
       "      <td>2762</td>\n",
       "      <td>1647</td>\n",
       "      <td>552</td>\n",
       "      <td>563</td>\n",
       "      <td>5947</td>\n",
       "      <td>3140</td>\n",
       "      <td>33</td>\n",
       "      <td>23</td>\n",
       "      <td>8</td>\n",
       "      <td>8</td>\n",
       "      <td>3</td>\n",
       "      <td>4</td>\n",
       "      <td>79</td>\n",
       "      <td>1929</td>\n",
       "      <td>1929</td>\n",
       "      <td>1</td>\n",
       "    </tr>\n",
       "    <tr>\n",
       "      <th>2</th>\n",
       "      <td>2</td>\n",
       "      <td>Barcelona</td>\n",
       "      <td>86</td>\n",
       "      <td>4262</td>\n",
       "      <td>2762</td>\n",
       "      <td>1581</td>\n",
       "      <td>573</td>\n",
       "      <td>608</td>\n",
       "      <td>5900</td>\n",
       "      <td>3114</td>\n",
       "      <td>25</td>\n",
       "      <td>25</td>\n",
       "      <td>12</td>\n",
       "      <td>12</td>\n",
       "      <td>4</td>\n",
       "      <td>6</td>\n",
       "      <td>83</td>\n",
       "      <td>1929</td>\n",
       "      <td>1929</td>\n",
       "      <td>1</td>\n",
       "    </tr>\n",
       "    <tr>\n",
       "      <th>3</th>\n",
       "      <td>3</td>\n",
       "      <td>Atletico Madrid</td>\n",
       "      <td>80</td>\n",
       "      <td>3442</td>\n",
       "      <td>2614</td>\n",
       "      <td>1241</td>\n",
       "      <td>598</td>\n",
       "      <td>775</td>\n",
       "      <td>4534</td>\n",
       "      <td>3309</td>\n",
       "      <td>10</td>\n",
       "      <td>8</td>\n",
       "      <td>16</td>\n",
       "      <td>9</td>\n",
       "      <td>7</td>\n",
       "      <td>6</td>\n",
       "      <td>56</td>\n",
       "      <td>1929</td>\n",
       "      <td>2002-03</td>\n",
       "      <td>1</td>\n",
       "    </tr>\n",
       "    <tr>\n",
       "      <th>4</th>\n",
       "      <td>4</td>\n",
       "      <td>Valencia</td>\n",
       "      <td>82</td>\n",
       "      <td>3386</td>\n",
       "      <td>2664</td>\n",
       "      <td>1187</td>\n",
       "      <td>616</td>\n",
       "      <td>861</td>\n",
       "      <td>4398</td>\n",
       "      <td>3469</td>\n",
       "      <td>6</td>\n",
       "      <td>6</td>\n",
       "      <td>10</td>\n",
       "      <td>11</td>\n",
       "      <td>10</td>\n",
       "      <td>7</td>\n",
       "      <td>50</td>\n",
       "      <td>1931-32</td>\n",
       "      <td>1987-88</td>\n",
       "      <td>1</td>\n",
       "    </tr>\n",
       "  </tbody>\n",
       "</table>\n",
       "</div>"
      ],
      "text/plain": [
       "   Pos             Team  Seasons  Points  GamesPlayed  GamesWon  GamesDrawn  \\\n",
       "0  Pos             Team  Seasons  Points  GamesPlayed  GamesWon  GamesDrawn   \n",
       "1    1      Real Madrid       86    4385         2762      1647         552   \n",
       "2    2        Barcelona       86    4262         2762      1581         573   \n",
       "3    3  Atletico Madrid       80    3442         2614      1241         598   \n",
       "4    4         Valencia       82    3386         2664      1187         616   \n",
       "\n",
       "   GamesLost  GoalsFor  GoalsAgainst  Champion   Runnerup  Third  Fourth  \\\n",
       "0  GamesLost  GoalsFor  GoalsAgainst  Champion  Runner-up  Third  Fourth   \n",
       "1        563      5947          3140        33         23      8       8   \n",
       "2        608      5900          3114        25         25     12      12   \n",
       "3        775      4534          3309        10          8     16       9   \n",
       "4        861      4398          3469         6          6     10      11   \n",
       "\n",
       "   Fifth  Sixth   T    Debut   SinceLastApp  BestPosition  \n",
       "0  Fifth  Sixth   T    Debut  Since/LastApp  BestPosition  \n",
       "1      3      4  79     1929           1929             1  \n",
       "2      4      6  83     1929           1929             1  \n",
       "3      7      6  56     1929        2002-03             1  \n",
       "4     10      7  50  1931-32        1987-88             1  "
      ]
     },
     "execution_count": 6,
     "metadata": {},
     "output_type": "execute_result"
    }
   ],
   "source": [
    "laliga.head()"
   ]
  },
  {
   "cell_type": "code",
   "execution_count": 7,
   "metadata": {},
   "outputs": [],
   "source": [
    "laliga.drop(index=0, inplace=True)\n",
    "\n",
    "# we have dropped the first row of the dataframe, unwanted data "
   ]
  },
  {
   "cell_type": "code",
   "execution_count": 8,
   "metadata": {},
   "outputs": [
    {
     "data": {
      "text/plain": [
       "Pos             0\n",
       "Team            0\n",
       "Seasons         0\n",
       "Points          0\n",
       "GamesPlayed     0\n",
       "GamesWon        0\n",
       "GamesDrawn      0\n",
       "GamesLost       0\n",
       "GoalsFor        0\n",
       "GoalsAgainst    0\n",
       "Champion        0\n",
       "Runnerup        0\n",
       "Third           0\n",
       "Fourth          0\n",
       "Fifth           0\n",
       "Sixth           0\n",
       "T               0\n",
       "Debut           0\n",
       "SinceLastApp    0\n",
       "BestPosition    0\n",
       "dtype: int64"
      ]
     },
     "execution_count": 8,
     "metadata": {},
     "output_type": "execute_result"
    }
   ],
   "source": [
    "laliga.isna().sum()\n",
    "\n",
    "# no null records were found"
   ]
  },
  {
   "cell_type": "code",
   "execution_count": 9,
   "metadata": {},
   "outputs": [],
   "source": [
    "laliga.index = laliga['Team']\n",
    "\n",
    "# we assign the index of laliga dataframe to be the Pos"
   ]
  },
  {
   "cell_type": "code",
   "execution_count": 12,
   "metadata": {},
   "outputs": [],
   "source": [
    "laliga.drop(columns = ['Pos', 'Team'], inplace=True)\n",
    "\n",
    "# we are dropping the Pos column as it is unnecessary column. We also drop Team column as we have already assigned it as Index.\n",
    "# One can aso assign Pos as index, according ti their convinience."
   ]
  },
  {
   "cell_type": "code",
   "execution_count": 13,
   "metadata": {},
   "outputs": [
    {
     "data": {
      "text/plain": [
       "array(['1929', '1929', '1929', '1931-32', '1929', '1934-35', '1929',\n",
       "       '1929', '1939-40', '1932-33', '1941-42', '1939-40', '1948-49',\n",
       "       '1929', '1944-45', '1935-36', '1949-50', '1933-34', '1960-61',\n",
       "       '1951-52', '1998-99', '1941-42', '1977-78', '1959-60', '2004-05',\n",
       "       '1935-36', '1961-62', '1940-41', '1930-31', '1963-64', '1974-75',\n",
       "       '1943-44', '1977-78', '1987-88', '1941-42', '1991-92', '2007-08',\n",
       "       '1962-63', '1994-95', '1978-79', '1971-72', '1963-64', '1999-00',\n",
       "       '2014-15', '1929', '1990-91', '1947-48', '1996-97', '1995-96',\n",
       "       '1945-46', '1953-54', '1929', '1979-80', '1929', '1950-51',\n",
       "       '2016-17', '2009-10', '1956-57', '1951-52', '1955-56', '2017-18'],\n",
       "      dtype=object)"
      ]
     },
     "execution_count": 13,
     "metadata": {},
     "output_type": "execute_result"
    }
   ],
   "source": [
    "laliga['Debut'].values\n",
    "\n",
    "# we consider the absolute lower year as the Debut year. Same logic applies to SinceLastApp column too."
   ]
  },
  {
   "cell_type": "code",
   "execution_count": 14,
   "metadata": {},
   "outputs": [],
   "source": [
    "l = len(laliga['Debut'])\n",
    "#print(l)\n",
    "for i in range(l):\n",
    "    laliga['Debut'][i] = laliga['Debut'][i][:4]\n",
    "    laliga['SinceLastApp'][i] = laliga['SinceLastApp'][i][:4]"
   ]
  },
  {
   "cell_type": "code",
   "execution_count": 15,
   "metadata": {},
   "outputs": [
    {
     "data": {
      "text/plain": [
       "array(['1929', '1929', '2002', '1987', '1929', '2001', '1994', '2010',\n",
       "       '2012', '2015', '2014', '2012', '2013', '2011', '2015', '2016',\n",
       "       '2008', '2000', '2012', '2015', '2013', '2016', '2015', '2014',\n",
       "       '2015', '2010', '2009', '2007', '2016', '2015', '1998', '1987',\n",
       "       '2005', '1996', '1990', '2004', '2014', '2014', '1997', '2008',\n",
       "       '1979', '1969', '2008', '2014', '1934', '1992', '2006', '1998',\n",
       "       '1997', '1950', '1957', '1931', '1980', '1930', '1993', '2016',\n",
       "       '2009', '1956', '1951', '1955', '2017'], dtype=object)"
      ]
     },
     "execution_count": 15,
     "metadata": {},
     "output_type": "execute_result"
    }
   ],
   "source": [
    "laliga['SinceLastApp'].values"
   ]
  },
  {
   "cell_type": "code",
   "execution_count": 16,
   "metadata": {},
   "outputs": [],
   "source": [
    "# we have refined our data in Debut and SinceLastApp columns. We also have -  as data in many places. \n",
    "# So we are going to replacing it with numeircal zero\n",
    "laliga.replace('-', 0, inplace=True)"
   ]
  },
  {
   "cell_type": "code",
   "execution_count": 17,
   "metadata": {},
   "outputs": [],
   "source": [
    "laliga = laliga.astype(int)"
   ]
  },
  {
   "cell_type": "code",
   "execution_count": 18,
   "metadata": {},
   "outputs": [
    {
     "data": {
      "text/plain": [
       "Seasons         int32\n",
       "Points          int32\n",
       "GamesPlayed     int32\n",
       "GamesWon        int32\n",
       "GamesDrawn      int32\n",
       "GamesLost       int32\n",
       "GoalsFor        int32\n",
       "GoalsAgainst    int32\n",
       "Champion        int32\n",
       "Runnerup        int32\n",
       "Third           int32\n",
       "Fourth          int32\n",
       "Fifth           int32\n",
       "Sixth           int32\n",
       "T               int32\n",
       "Debut           int32\n",
       "SinceLastApp    int32\n",
       "BestPosition    int32\n",
       "dtype: object"
      ]
     },
     "execution_count": 18,
     "metadata": {},
     "output_type": "execute_result"
    }
   ],
   "source": [
    "laliga.dtypes"
   ]
  },
  {
   "cell_type": "markdown",
   "metadata": {},
   "source": [
    "# Which are the teams which started playing between 1930-1980?"
   ]
  },
  {
   "cell_type": "code",
   "execution_count": 19,
   "metadata": {},
   "outputs": [
    {
     "name": "stdout",
     "output_type": "stream",
     "text": [
      "0                  Alaves\n",
      "1                Valencia\n",
      "2              Real Betis\n",
      "3                  Oviedo\n",
      "4                 Sevilla\n",
      "5                Hercules\n",
      "6                 Osasuna\n",
      "7                Zaragoza\n",
      "8              Celta Vigo\n",
      "9                  Murcia\n",
      "10                Granada\n",
      "11    Deportivo La Coruna\n",
      "12              Castellon\n",
      "13               Sabadell\n",
      "14         Sporting Gijon\n",
      "15               Alcoyano\n",
      "16              Gimnastic\n",
      "17             Valladolid\n",
      "18                 Malaga\n",
      "19                 Lleida\n",
      "20             Las Palmas\n",
      "21        Atletico Tetuan\n",
      "22                   Jaen\n",
      "23       Cultural Leonesa\n",
      "24                 Condal\n",
      "25                  Elche\n",
      "26               Mallorca\n",
      "27               Tenerife\n",
      "28                Cordoba\n",
      "29                Levante\n",
      "30             Pontevedra\n",
      "31              Burgos CF\n",
      "32              Salamanca\n",
      "33         Rayo Vallecano\n",
      "34                  Cadiz\n",
      "35             Recreativo\n",
      "36             AD Almeria\n",
      "Name: Team, dtype: object\n"
     ]
    }
   ],
   "source": [
    "Team_started_playing_between_1930_1980 = pd.Series(laliga[(laliga['Debut'] >= 1930) & (laliga['Debut'] <= 1980)].sort_values(by = 'Debut').index)\n",
    "\n",
    "print(Team_started_playing_between_1930_1980)"
   ]
  },
  {
   "cell_type": "markdown",
   "metadata": {},
   "source": [
    "# Which are the top 5 teams in terms of points?"
   ]
  },
  {
   "cell_type": "code",
   "execution_count": 20,
   "metadata": {},
   "outputs": [
    {
     "data": {
      "text/plain": [
       "Team\n",
       "Real Madrid        4385\n",
       "Barcelona          4262\n",
       "Atletico Madrid    3442\n",
       "Valencia           3386\n",
       "Athletic Bilbao    3368\n",
       "Name: Points, dtype: int32"
      ]
     },
     "execution_count": 20,
     "metadata": {},
     "output_type": "execute_result"
    }
   ],
   "source": [
    "laliga.sort_values(by = 'Points', ascending=False)[:5]['Points']"
   ]
  },
  {
   "cell_type": "markdown",
   "metadata": {},
   "source": [
    "# What is the distribution of the winning percentage for all teams? \n",
    "Which teams are in the top 5 in terms of winning percentage? (Winning percentage= (GamesWon / GamesPlayed)*100)"
   ]
  },
  {
   "cell_type": "code",
   "execution_count": 21,
   "metadata": {},
   "outputs": [],
   "source": [
    "laliga['WinningPercentage'] = (laliga['GamesWon']/laliga['GamesPlayed'])*100"
   ]
  },
  {
   "cell_type": "code",
   "execution_count": 22,
   "metadata": {},
   "outputs": [
    {
     "data": {
      "text/plain": [
       "Team\n",
       "Real Madrid        59.630702\n",
       "Barcelona          57.241130\n",
       "Atletico Madrid    47.475134\n",
       "Valencia           44.557057\n",
       "Athletic Bilbao    43.772629\n",
       "Name: WinningPercentage, dtype: float64"
      ]
     },
     "execution_count": 22,
     "metadata": {},
     "output_type": "execute_result"
    }
   ],
   "source": [
    "laliga.sort_values(by= 'WinningPercentage', ascending=False)['WinningPercentage'][:5]"
   ]
  },
  {
   "cell_type": "markdown",
   "metadata": {},
   "source": [
    "# Is there a significant difference in the winning percentage for teams which have attained a best position between 1-3 and those teams which have had a best position between 4-7."
   ]
  },
  {
   "cell_type": "code",
   "execution_count": 23,
   "metadata": {},
   "outputs": [],
   "source": [
    "winning_percentage_till_7 = laliga[(laliga['BestPosition']>=4) & (laliga['BestPosition']<=7)]['WinningPercentage']\n",
    "winning_percentage_till_3 = laliga[(laliga['BestPosition']>=1) & (laliga['BestPosition']<=3)]['WinningPercentage']"
   ]
  },
  {
   "cell_type": "raw",
   "metadata": {},
   "source": [
    "Our hypothesis statement says that,\n",
    "\n",
    "Ho : There is no significant difference in the winning percentage for teams which have attained a best position between 1-3 and those teams which have had a best position between 4-7.\n",
    "\n",
    "Ha : There is significant difference in the winning percentage for teams which have attained a best position between 1-3 and those teams which have had a best position between 4-7."
   ]
  },
  {
   "cell_type": "code",
   "execution_count": 24,
   "metadata": {},
   "outputs": [
    {
     "data": {
      "text/plain": [
       "(0.9436671733856201, 0.2809881269931793)"
      ]
     },
     "execution_count": 24,
     "metadata": {},
     "output_type": "execute_result"
    }
   ],
   "source": [
    "shapiro(winning_percentage_till_7)"
   ]
  },
  {
   "cell_type": "code",
   "execution_count": 25,
   "metadata": {},
   "outputs": [
    {
     "data": {
      "text/plain": [
       "(0.8252524733543396, 0.003532945876941085)"
      ]
     },
     "execution_count": 25,
     "metadata": {},
     "output_type": "execute_result"
    }
   ],
   "source": [
    "shapiro(winning_percentage_till_3)"
   ]
  },
  {
   "cell_type": "markdown",
   "metadata": {},
   "source": [
    "Shapiro test confirms that one of the group isn't NORMAL, so we go for, independent unpaired two sample test of mean, mannwhitneyu"
   ]
  },
  {
   "cell_type": "code",
   "execution_count": 26,
   "metadata": {},
   "outputs": [
    {
     "data": {
      "text/plain": [
       "MannwhitneyuResult(statistic=11.0, pvalue=4.1876636593687686e-07)"
      ]
     },
     "execution_count": 26,
     "metadata": {},
     "output_type": "execute_result"
    }
   ],
   "source": [
    "mannwhitneyu(winning_percentage_till_7, winning_percentage_till_3)"
   ]
  },
  {
   "cell_type": "markdown",
   "metadata": {},
   "source": [
    "It is observed that the p_value is less than 0.05, which means that, it rejects the NULL hypothesis. SO we can conclude that there is significant difference in the winning percentage for teams which have attained a best position between 1-3 and those teams which have had a best position between 4-7."
   ]
  },
  {
   "cell_type": "code",
   "execution_count": 27,
   "metadata": {},
   "outputs": [
    {
     "data": {
      "image/png": "[encoded data removed]",
      "text/plain": [
       "<Figure size 432x288 with 1 Axes>"
      ]
     },
     "metadata": {
      "needs_background": "light"
     },
     "output_type": "display_data"
    }
   ],
   "source": [
    "#POST- HOC ANALYSIS\n",
    "sns.kdeplot(winning_percentage_till_3, color='red', label='winning_percentage_till_3')\n",
    "plt.axvline(np.mean(winning_percentage_till_3), color='red')\n",
    "sns.kdeplot(winning_percentage_till_7, color='hotpink', label='winning_percentage_till_7')\n",
    "plt.axvline(np.mean(winning_percentage_till_7), color='hotpink')\n",
    "plt.xlabel('Winning_percentage')\n",
    "plt.legend()\n",
    "plt.show()"
   ]
  },
  {
   "cell_type": "markdown",
   "metadata": {},
   "source": [
    "It is very evident from the post - hoc analysis that there is a isgnificant diffeence between in the winning percentage for teams which have attained a best position between 1-3 and those teams which have had a best position between 4-7."
   ]
  },
  {
   "cell_type": "code",
   "execution_count": null,
   "metadata": {},
   "outputs": [],
   "source": []
  },
  {
   "cell_type": "code",
   "execution_count": null,
   "metadata": {},
   "outputs": [],
   "source": []
  },
  {
   "cell_type": "code",
   "execution_count": null,
   "metadata": {},
   "outputs": [],
   "source": []
  },
  {
   "cell_type": "code",
   "execution_count": null,
   "metadata": {},
   "outputs": [],
   "source": []
  },
  {
   "cell_type": "code",
   "execution_count": null,
   "metadata": {},
   "outputs": [],
   "source": []
  },
  {
   "cell_type": "code",
   "execution_count": null,
   "metadata": {},
   "outputs": [],
   "source": []
  },
  {
   "cell_type": "markdown",
   "metadata": {},
   "source": [
    "# PART- B"
   ]
  },
  {
   "cell_type": "code",
   "execution_count": 28,
   "metadata": {},
   "outputs": [],
   "source": [
    "import numpy as np\n",
    "import pandas as pd\n",
    "import matplotlib.pyplot as plt\n",
    "import seaborn as sns"
   ]
  },
  {
   "cell_type": "markdown",
   "metadata": {},
   "source": [
    "# 2. A study was done to measure the blood pressure of 60 year old women with glaucoma. A random sample of 200 60-year old women with glaucoma was chosen. The mean of the systolic blood pressure in the sample was 140 mm Hg and the standard deviation was 25 mm Hg.\n",
    "\n",
    "a)\tCalculate the estimated standard error of the sample mean? What does the standard error indicate?\n",
    "b)\tEstimate a 95% confidence interval for the true mean blood pressure for all 60-year old women with glaucoma.\n",
    "c)\tAssume that instead of 200, a random sample of only 100 60-year old women with glaucoma was chosen. The sample mean and standard deviation estimates are the same as those in the original study. What is the estimated 95% confidence interval for the true mean blood pressure?\n",
    "d)\tWhich of the two above intervals are wider?\n",
    "e)\tExplain in non-technical terms why the estimated standard error of a sample mean tends to decrease with an increase in sample size.\n"
   ]
  },
  {
   "cell_type": "code",
   "execution_count": 29,
   "metadata": {},
   "outputs": [],
   "source": [
    "n = 200\n",
    "x_bar = 140\n",
    "sigma = 25"
   ]
  },
  {
   "cell_type": "markdown",
   "metadata": {},
   "source": [
    "# a) Calculate the estimated standard error of the sample mean? What does the standard error indicate?"
   ]
  },
  {
   "cell_type": "code",
   "execution_count": 30,
   "metadata": {},
   "outputs": [
    {
     "name": "stdout",
     "output_type": "stream",
     "text": [
      "The standard error of the sample mean is 1.7677669529663687 Hg per person\n"
     ]
    }
   ],
   "source": [
    "standard_error = sigma/(np.sqrt(n))\n",
    "print('The standard error of the sample mean is',standard_error, 'Hg per person')"
   ]
  },
  {
   "cell_type": "markdown",
   "metadata": {},
   "source": [
    "The standard error is a statistical term that measures the accuracy with which a sample distribution represents a population by using standard deviation. In statistics, a sample mean deviates from the actual mean of a population—this deviation is the standard error of the mean.\n",
    "\n",
    "The sample mean deviates from the actual mean by 1.768 units."
   ]
  },
  {
   "cell_type": "code",
   "execution_count": null,
   "metadata": {},
   "outputs": [],
   "source": []
  },
  {
   "cell_type": "markdown",
   "metadata": {},
   "source": [
    "# b) Estimate a 95% confidence interval for the true mean blood pressure for all 60-year old women with glaucoma."
   ]
  },
  {
   "cell_type": "code",
   "execution_count": 31,
   "metadata": {},
   "outputs": [
    {
     "name": "stdout",
     "output_type": "stream",
     "text": [
      "The 95% CI for the true mean blood pressure for all 60 year old women with glaucoma is\n",
      "\n",
      "136.5351767721859 , 143.4648232278141\n"
     ]
    }
   ],
   "source": [
    "print('The 95% CI for the true mean blood pressure for all 60 year old women with glaucoma is')\n",
    "print()\n",
    "print(x_bar - (1.96 * standard_error),',', x_bar + (1.96 * standard_error))"
   ]
  },
  {
   "cell_type": "code",
   "execution_count": null,
   "metadata": {},
   "outputs": [],
   "source": []
  },
  {
   "cell_type": "markdown",
   "metadata": {},
   "source": [
    "# c) Assume that instead of 200, a random sample of only 100 60-year old women with glaucoma was chosen. The sample mean and standard deviation estimates are the same as those in the original study. What is the estimated 95% confidence interval for the true mean blood pressure?"
   ]
  },
  {
   "cell_type": "code",
   "execution_count": 32,
   "metadata": {},
   "outputs": [],
   "source": [
    "n_new =100\n",
    "x_bar = 140\n",
    "sigma = 25"
   ]
  },
  {
   "cell_type": "code",
   "execution_count": 33,
   "metadata": {},
   "outputs": [
    {
     "data": {
      "text/plain": [
       "2.5"
      ]
     },
     "execution_count": 33,
     "metadata": {},
     "output_type": "execute_result"
    }
   ],
   "source": [
    "standard_error_new = sigma/(np.sqrt(n_new))\n",
    "standard_error_new"
   ]
  },
  {
   "cell_type": "code",
   "execution_count": 34,
   "metadata": {},
   "outputs": [],
   "source": [
    "# for 95% CI of true mean"
   ]
  },
  {
   "cell_type": "code",
   "execution_count": 35,
   "metadata": {},
   "outputs": [
    {
     "name": "stdout",
     "output_type": "stream",
     "text": [
      "The 95% CI for the true mean blood pressure for sample of 100 women for all 60 year old women with glaucoma is\n",
      "\n",
      "135.1 , 144.9\n"
     ]
    }
   ],
   "source": [
    "print('The 95% CI for the true mean blood pressure for sample of 100 women for all 60 year old women with glaucoma is')\n",
    "print()\n",
    "print(x_bar - (1.96 * standard_error_new),',', x_bar + (1.96 * standard_error_new))"
   ]
  },
  {
   "cell_type": "code",
   "execution_count": null,
   "metadata": {},
   "outputs": [],
   "source": []
  },
  {
   "cell_type": "markdown",
   "metadata": {},
   "source": [
    "# d) Which of the two above intervals are wider?"
   ]
  },
  {
   "cell_type": "markdown",
   "metadata": {},
   "source": [
    "From the above calculations we found that for percentage of confidence interval, the interval has got larger for lesser number of samples, compared to the greater number of samples.\n",
    "\n",
    "In other words, we can also say that, as the number of sample increases for same percentage of confidence interval, the interval will decrease, and vice-versa."
   ]
  },
  {
   "cell_type": "code",
   "execution_count": null,
   "metadata": {},
   "outputs": [],
   "source": []
  },
  {
   "cell_type": "markdown",
   "metadata": {},
   "source": [
    "# e) Explain in non-technical terms why the estimated standard error of a sample mean tends to decrease with an increase in sample size."
   ]
  },
  {
   "cell_type": "markdown",
   "metadata": {},
   "source": [
    "In layman terms, we can correlate from confidence interval and the standard error as follows.\n",
    "\n",
    "We all know that, standard error is a measure of deviation from the sample mean of sample distributions of a population. So as the sample size increases, we get more samples from the population which represents it so good. If the sample size is less, then we may or may not get sample with good population representation.\n",
    "\n",
    "Hence with increase in the sample size, we get good population representaion samples and can easily get closer to our sample mean. Which alternatley, decreases the deviation from the sample mean (standard error)."
   ]
  },
  {
   "cell_type": "code",
   "execution_count": null,
   "metadata": {},
   "outputs": [],
   "source": []
  },
  {
   "cell_type": "markdown",
   "metadata": {},
   "source": [
    "# PART-C"
   ]
  },
  {
   "cell_type": "markdown",
   "metadata": {},
   "source": [
    "Par Inc., is a major manufacturer of golf equipment. Management believes that Par’s market share could be increased with the introduction of a cut-resistant, longer-lasting golf ball. Therefore, the research group at Par has been investigating a new golf ball coating designed to resist cuts and provide a more durable ball. The tests with the coating have been promising.\n",
    "\n",
    "        One of the researchers voiced concern about the effect of the new coating on driving distances. Par would like the new cut-resistant ball to offer driving distances comparable to those of the current-model golf ball. To compare the driving distances for the two balls, 40 balls of both the new and current models were subjected to distance tests. The testing was performed with a mechanical hitting machine so that any difference between the mean distances for the two models could be attributed to a difference in the design. The results of the tests, with distances measured to the nearest yard, are contained in the data set “Golf”.\n",
    "\n",
    "=>Formulate and present the rationale for a hypothesis test that Par could use to compare the driving distances of the current and new golf balls.\n",
    "=>Analyze the data to provide the hypothesis testing conclusion. What is the p-value for your test? What is your recommendation for Par Inc.?\n",
    "=>What is the 95% confidence interval for the population mean of each model, and what is the 95% confidence interval for the difference between the means of the two population?"
   ]
  },
  {
   "cell_type": "code",
   "execution_count": 40,
   "metadata": {},
   "outputs": [],
   "source": [
    "import numpy as np\n",
    "import pandas as pd\n",
    "import matplotlib.pyplot as plt\n",
    "import seaborn as sns\n",
    "\n",
    "from scipy.stats import shapiro\n",
    "from scipy.stats import ttest_ind"
   ]
  },
  {
   "cell_type": "code",
   "execution_count": 36,
   "metadata": {},
   "outputs": [
    {
     "data": {
      "text/html": [
       "<div>\n",
       "<style scoped>\n",
       "    .dataframe tbody tr th:only-of-type {\n",
       "        vertical-align: middle;\n",
       "    }\n",
       "\n",
       "    .dataframe tbody tr th {\n",
       "        vertical-align: top;\n",
       "    }\n",
       "\n",
       "    .dataframe thead th {\n",
       "        text-align: right;\n",
       "    }\n",
       "</style>\n",
       "<table border=\"1\" class=\"dataframe\">\n",
       "  <thead>\n",
       "    <tr style=\"text-align: right;\">\n",
       "      <th></th>\n",
       "      <th>Current</th>\n",
       "      <th>New</th>\n",
       "    </tr>\n",
       "  </thead>\n",
       "  <tbody>\n",
       "    <tr>\n",
       "      <th>0</th>\n",
       "      <td>264</td>\n",
       "      <td>277</td>\n",
       "    </tr>\n",
       "    <tr>\n",
       "      <th>1</th>\n",
       "      <td>261</td>\n",
       "      <td>269</td>\n",
       "    </tr>\n",
       "    <tr>\n",
       "      <th>2</th>\n",
       "      <td>267</td>\n",
       "      <td>263</td>\n",
       "    </tr>\n",
       "    <tr>\n",
       "      <th>3</th>\n",
       "      <td>272</td>\n",
       "      <td>266</td>\n",
       "    </tr>\n",
       "    <tr>\n",
       "      <th>4</th>\n",
       "      <td>258</td>\n",
       "      <td>262</td>\n",
       "    </tr>\n",
       "  </tbody>\n",
       "</table>\n",
       "</div>"
      ],
      "text/plain": [
       "   Current  New\n",
       "0      264  277\n",
       "1      261  269\n",
       "2      267  263\n",
       "3      272  266\n",
       "4      258  262"
      ]
     },
     "execution_count": 36,
     "metadata": {},
     "output_type": "execute_result"
    }
   ],
   "source": [
    "golf = pd.read_csv('Golf.csv')\n",
    "golf.head()"
   ]
  },
  {
   "cell_type": "markdown",
   "metadata": {},
   "source": [
    "Formulate and present the rationale for a hypothesis test that Par could use to compare the driving distances of the current and new golf balls.\n",
    "We formulate our hypothesis as,\n",
    "\n",
    "Ho : The mean driving distance of the current golf ball is equal to the mean driving distance of the new golf balls.\n",
    "\n",
    "Ha : The mean driving distance of the current golf ball is not equal to the mean driving distance of the new golf balls.\n",
    "\n",
    "we perform two sample t test to compare the mean of these two ball groups\n",
    "\n",
    "Before that we perform test of normality, to check for the normality of the the two groups of data."
   ]
  },
  {
   "cell_type": "code",
   "execution_count": 37,
   "metadata": {},
   "outputs": [
    {
     "data": {
      "text/plain": [
       "(0.9707046747207642, 0.378787100315094)"
      ]
     },
     "execution_count": 37,
     "metadata": {},
     "output_type": "execute_result"
    }
   ],
   "source": [
    "shapiro(golf['Current'])"
   ]
  },
  {
   "cell_type": "code",
   "execution_count": 38,
   "metadata": {},
   "outputs": [
    {
     "data": {
      "text/plain": [
       "(0.9678263664245605, 0.3064655363559723)"
      ]
     },
     "execution_count": 38,
     "metadata": {},
     "output_type": "execute_result"
    }
   ],
   "source": [
    "shapiro(golf['New'])"
   ]
  },
  {
   "cell_type": "markdown",
   "metadata": {},
   "source": [
    "both the groups have p_val > 0.05, which means that they both are NORMAL (normally distributed). Hence we go for independent parametric two sample t test using ttest_ind()."
   ]
  },
  {
   "cell_type": "markdown",
   "metadata": {},
   "source": [
    "# 2. Analyze the data to provide the hypothesis testing conclusion. What is the p-value for your test? What is your recommendation for Par Inc.?"
   ]
  },
  {
   "cell_type": "code",
   "execution_count": 41,
   "metadata": {},
   "outputs": [
    {
     "name": "stdout",
     "output_type": "stream",
     "text": [
      "The test_statistics is 1.3283615935245678  and the p_value for the test is 0.18793228491854663\n"
     ]
    }
   ],
   "source": [
    "tstat, pval = ttest_ind(golf['Current'], golf['New'])\n",
    "print('The test_statistics is', tstat,' and the p_value for the test is',pval)"
   ]
  },
  {
   "cell_type": "markdown",
   "metadata": {},
   "source": [
    "It is observed that the p_value for the test is greater than 0.05, hence we reject our NULL hypothesis."
   ]
  },
  {
   "cell_type": "code",
   "execution_count": 42,
   "metadata": {},
   "outputs": [
    {
     "data": {
      "image/png": "[encoded data removed]",
      "text/plain": [
       "<Figure size 432x288 with 1 Axes>"
      ]
     },
     "metadata": {
      "needs_background": "light"
     },
     "output_type": "display_data"
    }
   ],
   "source": [
    "#POST-HOC ANALYSIS\n",
    "sns.kdeplot(golf['Current'], color='Red', label = 'Current_Ball')\n",
    "plt.axvline(np.mean(golf['Current']), color='Red')\n",
    "sns.kdeplot(golf['New'], color='Blue', label = 'New_Ball')\n",
    "plt.axvline(np.mean(golf['New']), color='Blue')\n",
    "plt.legend()\n",
    "plt.show()"
   ]
  },
  {
   "cell_type": "markdown",
   "metadata": {},
   "source": [
    "It is evident from the analysis that the mean driving distance of the current golf ball is less than mean driving distance of the new golf balls."
   ]
  },
  {
   "cell_type": "markdown",
   "metadata": {},
   "source": [
    "# What is the 95% confidence interval for the population mean of each model, and what is the 95% confidence interval for the difference between the means of the two population"
   ]
  },
  {
   "cell_type": "code",
   "execution_count": 49,
   "metadata": {},
   "outputs": [],
   "source": [
    "mean_new_ball = np.mean(golf['New'])\n",
    "mean_current_ball = np.mean(golf['Current'])\n"
   ]
  },
  {
   "cell_type": "code",
   "execution_count": 50,
   "metadata": {},
   "outputs": [
    {
     "data": {
      "text/plain": [
       "267.5"
      ]
     },
     "execution_count": 50,
     "metadata": {},
     "output_type": "execute_result"
    }
   ],
   "source": [
    "mean_new_ball"
   ]
  },
  {
   "cell_type": "code",
   "execution_count": 52,
   "metadata": {},
   "outputs": [
    {
     "data": {
      "text/plain": [
       "(248.3460761200218, 286.6539238799782)"
      ]
     },
     "execution_count": 52,
     "metadata": {},
     "output_type": "execute_result"
    }
   ],
   "source": [
    "#95% conf_int for new ball\n",
    "mean_new_ball - 1.96*np.std(golf['New']),mean_new_ball + 1.96*np.std(golf['New'])"
   ]
  },
  {
   "cell_type": "code",
   "execution_count": 53,
   "metadata": {},
   "outputs": [
    {
     "data": {
      "text/plain": [
       "(253.33495516534856, 287.2150448346514)"
      ]
     },
     "execution_count": 53,
     "metadata": {},
     "output_type": "execute_result"
    }
   ],
   "source": [
    "#95% conf_int for current ball\n",
    "mean_current_ball - 1.96*np.std(golf['Current']),mean_current_ball + 1.96*np.std(golf['Current'])"
   ]
  },
  {
   "cell_type": "code",
   "execution_count": 55,
   "metadata": {},
   "outputs": [],
   "source": [
    "# what is the 95% confidence interval for the difference between the means of the two population"
   ]
  },
  {
   "cell_type": "code",
   "execution_count": 57,
   "metadata": {},
   "outputs": [],
   "source": [
    "std_new_ball = np.std(golf['New'])\n",
    "std_current_ball = np.std(golf['Current'])"
   ]
  },
  {
   "cell_type": "code",
   "execution_count": 63,
   "metadata": {},
   "outputs": [
    {
     "data": {
      "text/plain": [
       "2.3875"
      ]
     },
     "execution_count": 63,
     "metadata": {},
     "output_type": "execute_result"
    }
   ],
   "source": [
    "(std_new_ball)**2/len(golf['New'])"
   ]
  },
  {
   "cell_type": "code",
   "execution_count": null,
   "metadata": {},
   "outputs": [],
   "source": [
    "#lower bound"
   ]
  },
  {
   "cell_type": "code",
   "execution_count": 64,
   "metadata": {},
   "outputs": [
    {
     "data": {
      "text/plain": [
       "5.564769375000022"
      ]
     },
     "execution_count": 64,
     "metadata": {},
     "output_type": "execute_result"
    }
   ],
   "source": [
    "(mean_new_ball-mean_current_ball) + 1.96*((std_new_ball)**2/len(golf['New']) + (std_current_ball)**2/len(golf['Current']))"
   ]
  },
  {
   "cell_type": "code",
   "execution_count": null,
   "metadata": {},
   "outputs": [],
   "source": [
    "#upper bound"
   ]
  },
  {
   "cell_type": "code",
   "execution_count": 62,
   "metadata": {},
   "outputs": [
    {
     "data": {
      "text/plain": [
       "-11.114769374999977"
      ]
     },
     "execution_count": 62,
     "metadata": {},
     "output_type": "execute_result"
    }
   ],
   "source": [
    "(mean_new_ball-mean_current_ball) - 1.96*((std_new_ball)**2/len(golf['New']) + (std_current_ball)**2/len(golf['Current']))"
   ]
  },
  {
   "cell_type": "code",
   "execution_count": null,
   "metadata": {},
   "outputs": [],
   "source": []
  }
 ],
 "metadata": {
  "kernelspec": {
   "display_name": "Python 3",
   "language": "python",
   "name": "python3"
  },
  "language_info": {
   "codemirror_mode": {
    "name": "ipython",
    "version": 3
   },
   "file_extension": ".py",
   "mimetype": "text/x-python",
   "name": "python",
   "nbconvert_exporter": "python",
   "pygments_lexer": "ipython3",
   "version": "3.7.6"
  }
 },
 "nbformat": 4,
 "nbformat_minor": 2
}
